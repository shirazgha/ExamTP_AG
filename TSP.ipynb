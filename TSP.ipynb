{
  "nbformat": 4,
  "nbformat_minor": 0,
  "metadata": {
    "colab": {
      "provenance": [],
      "authorship_tag": "ABX9TyM0IHic1HAR8CTnLQTRr+n2",
      "include_colab_link": true
    },
    "kernelspec": {
      "name": "python3",
      "display_name": "Python 3"
    },
    "language_info": {
      "name": "python"
    }
  },
  "cells": [
    {
      "cell_type": "markdown",
      "metadata": {
        "id": "view-in-github",
        "colab_type": "text"
      },
      "source": [
        "<a href=\"https://colab.research.google.com/github/shirazgha/ExamTP_AG/blob/main/TSP.ipynb\" target=\"_parent\"><img src=\"https://colab.research.google.com/assets/colab-badge.svg\" alt=\"Open In Colab\"/></a>"
      ]
    },
    {
      "cell_type": "markdown",
      "source": [
        "# **The Traveling Salesperson Problem**"
      ],
      "metadata": {
        "id": "UhW5LJS0tKXi"
      }
    },
    {
      "cell_type": "markdown",
      "source": [
        "Le problème du voyageur de commerce (TSP) pose la question suivante : \"Étant donné une liste de villes et les distances entre chaque paire de villes, quel est l'itinéraire le plus court possible qui visite chaque ville et retourne à la ville d'origine ?"
      ],
      "metadata": {
        "id": "wyVy5b2XtWQC"
      }
    },
    {
      "cell_type": "code",
      "source": [
        "import random\n",
        "import math\n",
        "\n",
        "POP_SIZE = 15 #nbre de chromosomes\n",
        "NB_GENES = 15 \n",
        "MUT_RATE = 0.2 #taux de mutation\n",
        "CROSS_RATE = 0.7 #taux de croisement\n",
        "\n",
        "TOURNAMENT_SELECTION_SIZE = 4\n",
        "\n",
        "# nombre de combinaisons possible = factoriel de NB_GENES \n",
        "# donc pour eviter la redandance des individus(villes) on peut definir la taille de la population inferieur ou egale aux total des combinaisons\n",
        "\n",
        "Villes = []\n",
        "i=0\n",
        "while i < NB_GENES:\n",
        "  ville = (random.randint(0,9),random.randint(0,9))\n",
        "  if ville not in Villes:\n",
        "    Villes.append(ville)\n",
        "    i += 1"
      ],
      "metadata": {
        "id": "-blwRSR7tW-B"
      },
      "execution_count": 14,
      "outputs": []
    },
    {
      "cell_type": "code",
      "source": [
        "Villes"
      ],
      "metadata": {
        "colab": {
          "base_uri": "https://localhost:8080/"
        },
        "id": "AtSoq7ncuXmi",
        "outputId": "73000f24-574a-4d6f-cfe7-0b5f97974b3e"
      },
      "execution_count": 15,
      "outputs": [
        {
          "output_type": "execute_result",
          "data": {
            "text/plain": [
              "[(3, 4),\n",
              " (5, 8),\n",
              " (0, 6),\n",
              " (5, 1),\n",
              " (7, 7),\n",
              " (0, 4),\n",
              " (1, 7),\n",
              " (0, 3),\n",
              " (6, 9),\n",
              " (5, 0),\n",
              " (9, 8),\n",
              " (7, 2),\n",
              " (8, 2),\n",
              " (6, 3),\n",
              " (0, 2)]"
            ]
          },
          "metadata": {},
          "execution_count": 15
        }
      ]
    },
    {
      "cell_type": "code",
      "source": [
        "class Chromosome:\n",
        "    '''Chromosome Init'''\n",
        "    def __init__(self, villes):\n",
        "        self.genes = []\n",
        "        self.fitness = 0\n",
        "        i = 0\n",
        "        while i < NB_GENES:\n",
        "          ville = Villes[random.randint(0,NB_GENES - 1)]\n",
        "          if ville not in self.genes:\n",
        "            self.genes.append(ville)\n",
        "            i += 1\n",
        "         \n",
        "          \n",
        "    def get_genes(self):\n",
        "        return self.genes\n",
        "\n",
        "    def get_X(self,pos):\n",
        "        return self.genes[pos][0]\n",
        "\n",
        "    def get_Y(self, pos):\n",
        "        return self.genes[pos][1]\n",
        "\n",
        "    def get_fitness(self):\n",
        "        self.fitness = 0\n",
        "\n",
        "        for i in range(NB_GENES-1):\n",
        "          #distance = math.sqrt((x1 - x2)**2 + (y1 - y2)**2)\n",
        "                # self.fitness += math.sqrt((self.genes[i][0] - self.genes[i+1][0])**2 + (self.genes[i][1] - self.genes[i+1][1])**2)\n",
        "\n",
        "                self.fitness += math.sqrt((self.get_X(i) - self.get_X(i+1))**2 + (self.get_Y(i) - self.get_Y(i+1))**2)\n",
        "        self.fitness += math.sqrt((self.get_X(NB_GENES-1) - self.get_X(0))**2 + (self.get_Y(NB_GENES-1) - self.get_Y(0))**2)       \n",
        "        return round(self.fitness, 2) \n",
        "\n",
        "    def __str__(self):\n",
        "        return self.genes.__str__()"
      ],
      "metadata": {
        "id": "z1CYgphSuy2a"
      },
      "execution_count": 16,
      "outputs": []
    },
    {
      "cell_type": "code",
      "source": [
        "Chromosome(Villes).__str__()"
      ],
      "metadata": {
        "colab": {
          "base_uri": "https://localhost:8080/",
          "height": 35
        },
        "id": "_FR_G2ov7y57",
        "outputId": "dabe1c2d-063f-47a4-d98d-cf760aaefeef"
      },
      "execution_count": 4,
      "outputs": [
        {
          "output_type": "execute_result",
          "data": {
            "text/plain": [
              "'[(3, 3), (8, 0), (6, 6), (8, 2), (0, 7), (2, 5), (4, 7), (4, 6), (1, 2), (9, 6), (2, 2), (1, 0), (1, 6), (2, 4), (5, 6)]'"
            ],
            "application/vnd.google.colaboratory.intrinsic+json": {
              "type": "string"
            }
          },
          "metadata": {},
          "execution_count": 4
        }
      ]
    },
    {
      "cell_type": "code",
      "source": [
        "class Population:\n",
        "    '''Population Init'''\n",
        "    def __init__(self, size):\n",
        "        self.chromosomes = []\n",
        "        i = 0\n",
        "        while i < size :\n",
        "            self.chromosomes.append( Chromosome(Villes) )\n",
        "            i += 1\n",
        "        self.chromosomes.sort(key=lambda x: x.get_fitness(), reverse=False)\n",
        "\n",
        "    '''Get All Population Chromosomes'''\n",
        "    def get_chromosomes(self):\n",
        "        return self.chromosomes\n",
        "\n",
        "    def print_population(self, gen_number):\n",
        "        print(\"\\n-----------------------Generation Summary---------------------------\")\n",
        "        print(\"--------------------------------------------------------------------\")\n",
        "        print(\"Generation #\", gen_number, \"| Fittest chromosome fitness:\", self.get_chromosomes()[0].get_fitness())\n",
        "        # print(\"Target chromosome\", TARGET_CHROMOSOME)\n",
        "        print(\"--------------------------------------------------------------------\")\n",
        "        i = 0\n",
        "        for x in self.get_chromosomes():\n",
        "            print(\"Chromosome #\",i,\" :\",x,\"| Fitness\", x.get_fitness())\n",
        "            i += 1"
      ],
      "metadata": {
        "id": "kje0MCywvJTq"
      },
      "execution_count": 17,
      "outputs": []
    },
    {
      "cell_type": "code",
      "source": [
        "Population(15).print_population(0)"
      ],
      "metadata": {
        "colab": {
          "base_uri": "https://localhost:8080/"
        },
        "id": "lAXtlzR6vQEa",
        "outputId": "5ea168d3-00a3-478e-df4b-6b62d07708fe"
      },
      "execution_count": 6,
      "outputs": [
        {
          "output_type": "stream",
          "name": "stdout",
          "text": [
            "\n",
            "-----------------------Generation Summary---------------------------\n",
            "--------------------------------------------------------------------\n",
            "Generation # 0 | Fittest chromosome fitness: 51.41\n",
            "--------------------------------------------------------------------\n",
            "Chromosome # 0  : [(4, 6), (2, 5), (1, 6), (5, 6), (0, 7), (4, 7), (3, 3), (2, 2), (1, 0), (1, 2), (2, 4), (8, 2), (8, 0), (6, 6), (9, 6)] | Fitness 51.41\n",
            "Chromosome # 1  : [(6, 6), (4, 7), (3, 3), (4, 6), (9, 6), (2, 2), (1, 2), (2, 4), (8, 2), (8, 0), (1, 0), (0, 7), (5, 6), (2, 5), (1, 6)] | Fitness 62.89\n",
            "Chromosome # 2  : [(4, 7), (1, 2), (8, 0), (8, 2), (2, 4), (9, 6), (2, 5), (1, 6), (4, 6), (5, 6), (1, 0), (2, 2), (3, 3), (0, 7), (6, 6)] | Fitness 65.38\n",
            "Chromosome # 3  : [(1, 6), (2, 4), (0, 7), (1, 2), (2, 2), (4, 6), (6, 6), (1, 0), (3, 3), (8, 2), (5, 6), (4, 7), (2, 5), (8, 0), (9, 6)] | Fitness 66.06\n",
            "Chromosome # 4  : [(0, 7), (4, 7), (2, 4), (3, 3), (1, 6), (8, 2), (1, 2), (2, 2), (2, 5), (4, 6), (6, 6), (5, 6), (8, 0), (9, 6), (1, 0)] | Fitness 66.79\n",
            "Chromosome # 5  : [(6, 6), (2, 4), (2, 2), (2, 5), (1, 0), (1, 6), (3, 3), (5, 6), (9, 6), (8, 2), (0, 7), (1, 2), (8, 0), (4, 6), (4, 7)] | Fitness 68.17\n",
            "Chromosome # 6  : [(2, 4), (5, 6), (6, 6), (2, 2), (8, 0), (4, 6), (9, 6), (8, 2), (1, 2), (0, 7), (1, 6), (3, 3), (2, 5), (1, 0), (4, 7)] | Fitness 68.6\n",
            "Chromosome # 7  : [(6, 6), (0, 7), (3, 3), (4, 7), (2, 5), (4, 6), (2, 2), (2, 4), (5, 6), (1, 6), (9, 6), (1, 2), (1, 0), (8, 2), (8, 0)] | Fitness 68.9\n",
            "Chromosome # 8  : [(2, 4), (1, 0), (9, 6), (2, 5), (5, 6), (2, 2), (8, 2), (6, 6), (4, 7), (4, 6), (0, 7), (1, 2), (3, 3), (8, 0), (1, 6)] | Fitness 71.81\n",
            "Chromosome # 9  : [(8, 2), (3, 3), (5, 6), (1, 2), (1, 0), (0, 7), (1, 6), (4, 6), (2, 2), (8, 0), (6, 6), (2, 5), (9, 6), (2, 4), (4, 7)] | Fitness 73.45\n",
            "Chromosome # 10  : [(1, 6), (3, 3), (4, 7), (8, 0), (4, 6), (6, 6), (2, 2), (0, 7), (8, 2), (9, 6), (2, 5), (5, 6), (1, 2), (1, 0), (2, 4)] | Fitness 73.85\n",
            "Chromosome # 11  : [(1, 6), (2, 2), (2, 4), (3, 3), (2, 5), (8, 0), (9, 6), (0, 7), (4, 6), (8, 2), (1, 0), (6, 6), (1, 2), (5, 6), (4, 7)] | Fitness 74.23\n",
            "Chromosome # 12  : [(4, 7), (0, 7), (4, 6), (1, 2), (8, 2), (1, 0), (1, 6), (8, 0), (6, 6), (2, 2), (2, 4), (2, 5), (5, 6), (3, 3), (9, 6)] | Fitness 76.18\n",
            "Chromosome # 13  : [(8, 0), (5, 6), (2, 5), (6, 6), (2, 4), (1, 2), (9, 6), (1, 6), (8, 2), (4, 7), (4, 6), (1, 0), (3, 3), (2, 2), (0, 7)] | Fitness 80.85\n",
            "Chromosome # 14  : [(8, 2), (2, 4), (3, 3), (1, 0), (0, 7), (9, 6), (2, 2), (4, 6), (1, 2), (4, 7), (5, 6), (1, 6), (6, 6), (8, 0), (2, 5)] | Fitness 82.09\n"
          ]
        }
      ]
    },
    {
      "cell_type": "code",
      "source": [
        "def select_tournament(pop):\n",
        "    tournament_pop = Population(0)\n",
        "    i = 0\n",
        "    while i < TOURNAMENT_SELECTION_SIZE :\n",
        "        tournament_pop.get_chromosomes().append(pop.get_chromosomes()[random.randrange(0,POP_SIZE)])\n",
        "        i += 1\n",
        "    tournament_pop.get_chromosomes().sort(key=lambda x: x.get_fitness(), reverse=False)\n",
        "    return tournament_pop.get_chromosomes()[0]"
      ],
      "metadata": {
        "id": "uI33pcGvVNNG"
      },
      "execution_count": 18,
      "outputs": []
    },
    {
      "cell_type": "code",
      "source": [
        "def crossover_chromosomes(parent1, parent2):\n",
        "    if random.random() < CROSS_RATE:\n",
        "      villes = []\n",
        "      child1 = Chromosome(villes)\n",
        "      child2 = Chromosome(villes)\n",
        "\n",
        "      '''One Point Cross Over'''\n",
        "      index = random.randrange(1, NB_GENES)\n",
        "      # child1.genes = parent1.get_genes()[:index] + parent2.get_genes()[index:]\n",
        "      sub_1_child1 = parent1.get_genes()[:index]\n",
        "      sub_2_child1 = [item for item in parent2.get_genes() if item not in sub_1_child1]\n",
        "      child1.genes = sub_1_child1 + sub_2_child1\n",
        "      # child2.genes = parent2.get_genes()[:index] + parent1.get_genes()[index:]\n",
        "      sub_1_child2 = parent2.get_genes()[:index]\n",
        "      sub_2_child2 = [item for item in parent1.get_genes() if item not in sub_1_child2]\n",
        "      child2.genes = sub_1_child2 + sub_2_child2\n",
        "\n",
        "\n",
        "      print(\"\\nMaking a cross\")\n",
        "      print(\"Parent1: \",parent1.get_genes())\n",
        "      print(\"Parent2: \",parent2.get_genes())\n",
        "      print(\"Child1 : \", child1.get_genes())\n",
        "      print(\"Child2 : \", child2.get_genes())\n",
        "\n",
        "      return child1, child2\n",
        "\n",
        "    else:\n",
        "      return parent1, parent2"
      ],
      "metadata": {
        "id": "3lkDE5WMvnG7"
      },
      "execution_count": 19,
      "outputs": []
    },
    {
      "cell_type": "code",
      "source": [
        "# cross over with two points \n",
        "\n",
        "\n",
        "\n",
        "# def crossover_chromosomes_twoPoints(parent1, parent2):\n",
        "#     if random.random() < CROSSING_RATE: \n",
        "#         child1 = Chromosome(Villes)\n",
        "#         child2 = Chromosome(Villes)\n",
        "\n",
        "#         '''One Point Cross Over'''\n",
        "#         index1 = random.randrange(1, NB_GENES)\n",
        "#         index2 = random.randrange(1, NB_GENES)\n",
        "#         while (index2 == index1):\n",
        "#           index2 = random.randrange(1, NB_GENES)\n",
        "#         # child1.genes = parent1.get_genes()[:index] + parent2.get_genes()[index:]\n",
        "#         child1.genes = parent1.get_genes()[:index1] + parent2[index1:index2] + [item for item in parent1.get_genes() if item not in child1.genes]\n",
        "#         # child2.genes = parent2.get_genes()[:index] + parent1.get_genes()[index:]\n",
        "#         child2.genes = parent2.get_genes()[:index1] + parent1[index1:index2] + [item for item in parent2.get_genes() if item not in child2.genes]\n",
        "\n",
        "\n",
        "#         print(\"\\nMaking a cross\")\n",
        "#         print(\"Parent1: \",parent1.get_genes())\n",
        "#         print(\"Parent2: \",parent2.get_genes())\n",
        "#         print(\"Child1 : \", child1.get_genes())\n",
        "#         print(\"Child2 : \", child2.get_genes())\n",
        "\n",
        "#         return child1, child2\n",
        "#     else:\n",
        "#         return parent1, parent2"
      ],
      "metadata": {
        "id": "ESGBYaGHvzGa"
      },
      "execution_count": 10,
      "outputs": []
    },
    {
      "cell_type": "code",
      "source": [
        "def mutatation(individual):\n",
        "    mutatation_index1 = random.randrange(len(individual.get_genes()))\n",
        "    mutatation_index2 = random.randrange(len(individual.get_genes()))\n",
        "\n",
        "    \n",
        "    individual.get_genes()[mutatation_index1], individual.get_genes()[mutatation_index2] = individual.get_genes()[mutatation_index2], individual.get_genes()[mutatation_index1]\n"
      ],
      "metadata": {
        "id": "tgn4T_xkv2gC"
      },
      "execution_count": 20,
      "outputs": []
    },
    {
      "cell_type": "code",
      "source": [
        "def evolve(pop):\n",
        "    new_pop = Population(0)\n",
        "    #'''Keep The Fittests Chromosomes'''\n",
        "    #for i in range(NUMBER_OF_ELITE_CHROMOSOMES):\n",
        "    #    new_pop.get_chromosomes().append(pop.get_chromosomes()[i])\n",
        "\n",
        "    print(\"\\nCrossover and Mutation Trace:\")\n",
        "    while new_pop.get_chromosomes().__len__() < POP_SIZE:\n",
        "        parent1 = select_tournament(pop)\n",
        "        parent2 = select_tournament(pop)\n",
        "\n",
        "\n",
        "        child1, child2 = crossover_chromosomes(parent1, parent2)\n",
        "\n",
        "\n",
        "        mutatation(child1)\n",
        "        mutatation(child2)\n",
        "\n",
        "\n",
        "        new_pop.get_chromosomes().append(child1)\n",
        "\n",
        "        # make sure to not depass the population size if we keep the elite\n",
        "        if len(new_pop.get_chromosomes()) < POP_SIZE:\n",
        "            new_pop.get_chromosomes().append(child2)\n",
        "\n",
        "    new_pop.get_chromosomes().sort(key=lambda x: x.get_fitness(), reverse=False)   \n",
        "    return new_pop"
      ],
      "metadata": {
        "id": "L-OGSBYDwE3C"
      },
      "execution_count": 21,
      "outputs": []
    },
    {
      "cell_type": "code",
      "source": [
        "generation_number = 0\n",
        "MAX_FITNESS = 10\n",
        "population = Population(POP_SIZE)\n",
        "population.print_population(generation_number)\n",
        "\n",
        "nb = 0\n",
        "while population.get_chromosomes()[0].get_fitness() > MAX_FITNESS and nb < 3 :\n",
        "  nb = nb + 1\n",
        "  generation_number += 1\n",
        "  population = evolve(population)\n",
        "  population.print_population(generation_number)"
      ],
      "metadata": {
        "colab": {
          "base_uri": "https://localhost:8080/"
        },
        "id": "STZQ7b7Rwbny",
        "outputId": "e049065c-4cf8-4366-b196-b9f84596655c"
      },
      "execution_count": 22,
      "outputs": [
        {
          "output_type": "stream",
          "name": "stdout",
          "text": [
            "\n",
            "-----------------------Generation Summary---------------------------\n",
            "--------------------------------------------------------------------\n",
            "Generation # 0 | Fittest chromosome fitness: 73.69\n",
            "--------------------------------------------------------------------\n",
            "Chromosome # 0  : [(6, 9), (1, 7), (0, 4), (0, 3), (6, 3), (5, 8), (7, 7), (9, 8), (0, 6), (7, 2), (5, 0), (3, 4), (5, 1), (8, 2), (0, 2)] | Fitness 73.69\n",
            "Chromosome # 1  : [(0, 2), (5, 8), (5, 1), (0, 3), (3, 4), (7, 7), (6, 3), (6, 9), (0, 4), (1, 7), (0, 6), (9, 8), (8, 2), (7, 2), (5, 0)] | Fitness 75.38\n",
            "Chromosome # 2  : [(3, 4), (5, 0), (1, 7), (5, 8), (6, 9), (0, 4), (8, 2), (7, 2), (5, 1), (0, 6), (9, 8), (6, 3), (7, 7), (0, 3), (0, 2)] | Fitness 76.28\n",
            "Chromosome # 3  : [(5, 0), (7, 2), (0, 4), (6, 3), (7, 7), (5, 8), (1, 7), (9, 8), (6, 9), (3, 4), (0, 6), (5, 1), (0, 2), (8, 2), (0, 3)] | Fitness 81.4\n",
            "Chromosome # 4  : [(7, 7), (5, 1), (5, 8), (6, 3), (3, 4), (1, 7), (5, 0), (6, 9), (0, 6), (0, 2), (0, 4), (0, 3), (8, 2), (9, 8), (7, 2)] | Fitness 81.49\n",
            "Chromosome # 5  : [(5, 1), (0, 4), (0, 2), (8, 2), (0, 6), (3, 4), (7, 2), (1, 7), (5, 8), (5, 0), (7, 7), (9, 8), (6, 9), (0, 3), (6, 3)] | Fitness 82.19\n",
            "Chromosome # 6  : [(5, 8), (0, 3), (3, 4), (0, 6), (6, 3), (7, 2), (9, 8), (0, 2), (0, 4), (6, 9), (1, 7), (5, 1), (7, 7), (8, 2), (5, 0)] | Fitness 84.54\n",
            "Chromosome # 7  : [(6, 3), (5, 0), (1, 7), (9, 8), (3, 4), (6, 9), (0, 3), (5, 1), (8, 2), (5, 8), (0, 4), (0, 6), (0, 2), (7, 2), (7, 7)] | Fitness 84.6\n",
            "Chromosome # 8  : [(6, 9), (3, 4), (0, 2), (6, 3), (1, 7), (0, 4), (8, 2), (5, 0), (0, 3), (5, 8), (7, 7), (0, 6), (9, 8), (5, 1), (7, 2)] | Fitness 85.73\n",
            "Chromosome # 9  : [(8, 2), (7, 7), (5, 8), (0, 3), (6, 9), (7, 2), (5, 1), (1, 7), (0, 2), (6, 3), (0, 6), (3, 4), (0, 4), (9, 8), (5, 0)] | Fitness 86.3\n",
            "Chromosome # 10  : [(7, 7), (5, 0), (5, 8), (5, 1), (0, 3), (0, 2), (0, 4), (6, 9), (0, 6), (6, 3), (1, 7), (8, 2), (7, 2), (9, 8), (3, 4)] | Fitness 86.43\n",
            "Chromosome # 11  : [(9, 8), (5, 0), (7, 7), (1, 7), (6, 9), (0, 2), (8, 2), (5, 8), (3, 4), (0, 4), (0, 3), (5, 1), (0, 6), (7, 2), (6, 3)] | Fitness 87.77\n",
            "Chromosome # 12  : [(5, 0), (3, 4), (0, 3), (7, 7), (0, 2), (1, 7), (5, 1), (0, 6), (6, 9), (7, 2), (0, 4), (8, 2), (9, 8), (5, 8), (6, 3)] | Fitness 91.33\n",
            "Chromosome # 13  : [(5, 1), (3, 4), (8, 2), (0, 3), (5, 8), (9, 8), (0, 2), (1, 7), (5, 0), (6, 9), (7, 2), (6, 3), (0, 6), (0, 4), (7, 7)] | Fitness 92.29\n",
            "Chromosome # 14  : [(1, 7), (6, 3), (0, 3), (5, 8), (8, 2), (0, 2), (5, 1), (7, 7), (9, 8), (7, 2), (0, 6), (3, 4), (6, 9), (0, 4), (5, 0)] | Fitness 93.94\n",
            "\n",
            "Crossover and Mutation Trace:\n",
            "\n",
            "Making a cross\n",
            "Parent1:  [(5, 0), (7, 2), (0, 4), (6, 3), (7, 7), (5, 8), (1, 7), (9, 8), (6, 9), (3, 4), (0, 6), (5, 1), (0, 2), (8, 2), (0, 3)]\n",
            "Parent2:  [(3, 4), (5, 0), (1, 7), (5, 8), (6, 9), (0, 4), (8, 2), (7, 2), (5, 1), (0, 6), (9, 8), (6, 3), (7, 7), (0, 3), (0, 2)]\n",
            "Child1 :  [(5, 0), (7, 2), (0, 4), (6, 3), (7, 7), (5, 8), (3, 4), (1, 7), (6, 9), (8, 2), (5, 1), (0, 6), (9, 8), (0, 3), (0, 2)]\n",
            "Child2 :  [(3, 4), (5, 0), (1, 7), (5, 8), (6, 9), (0, 4), (7, 2), (6, 3), (7, 7), (9, 8), (0, 6), (5, 1), (0, 2), (8, 2), (0, 3)]\n",
            "\n",
            "Making a cross\n",
            "Parent1:  [(0, 2), (5, 8), (5, 1), (0, 3), (3, 4), (7, 7), (6, 3), (6, 9), (0, 4), (1, 7), (0, 6), (9, 8), (8, 2), (7, 2), (5, 0)]\n",
            "Parent2:  [(5, 8), (0, 3), (3, 4), (0, 6), (6, 3), (7, 2), (9, 8), (0, 2), (0, 4), (6, 9), (1, 7), (5, 1), (7, 7), (8, 2), (5, 0)]\n",
            "Child1 :  [(0, 2), (5, 8), (5, 1), (0, 3), (3, 4), (7, 7), (6, 3), (6, 9), (0, 4), (1, 7), (0, 6), (9, 8), (7, 2), (8, 2), (5, 0)]\n",
            "Child2 :  [(5, 8), (0, 3), (3, 4), (0, 6), (6, 3), (7, 2), (9, 8), (0, 2), (0, 4), (6, 9), (1, 7), (5, 1), (7, 7), (8, 2), (5, 0)]\n",
            "\n",
            "Making a cross\n",
            "Parent1:  [(7, 7), (0, 3), (5, 8), (6, 3), (3, 4), (1, 7), (5, 0), (6, 9), (0, 6), (0, 2), (0, 4), (5, 1), (8, 2), (9, 8), (7, 2)]\n",
            "Parent2:  [(6, 9), (1, 7), (0, 4), (0, 3), (6, 3), (5, 8), (7, 7), (9, 8), (0, 6), (7, 2), (5, 0), (3, 4), (5, 1), (8, 2), (0, 2)]\n",
            "Child1 :  [(7, 7), (0, 3), (5, 8), (6, 3), (3, 4), (1, 7), (5, 0), (6, 9), (0, 6), (0, 2), (0, 4), (5, 1), (8, 2), (9, 8), (7, 2)]\n",
            "Child2 :  [(6, 9), (1, 7), (0, 4), (0, 3), (6, 3), (5, 8), (7, 7), (9, 8), (0, 6), (7, 2), (5, 0), (3, 4), (5, 1), (0, 2), (8, 2)]\n",
            "\n",
            "Making a cross\n",
            "Parent1:  [(9, 8), (5, 0), (7, 7), (1, 7), (6, 9), (0, 2), (8, 2), (5, 8), (3, 4), (0, 4), (0, 3), (5, 1), (0, 6), (7, 2), (6, 3)]\n",
            "Parent2:  [(6, 9), (1, 7), (0, 4), (0, 3), (6, 3), (5, 8), (7, 7), (9, 8), (0, 6), (7, 2), (5, 0), (3, 4), (5, 1), (8, 2), (0, 2)]\n",
            "Child1 :  [(9, 8), (5, 0), (7, 7), (6, 9), (1, 7), (0, 4), (0, 3), (6, 3), (5, 8), (0, 6), (7, 2), (3, 4), (5, 1), (8, 2), (0, 2)]\n",
            "Child2 :  [(6, 9), (1, 7), (0, 4), (9, 8), (5, 0), (7, 7), (0, 2), (8, 2), (5, 8), (3, 4), (0, 3), (5, 1), (0, 6), (7, 2), (6, 3)]\n",
            "\n",
            "Making a cross\n",
            "Parent1:  [(3, 4), (5, 0), (1, 7), (5, 8), (6, 9), (0, 4), (8, 2), (7, 2), (5, 1), (0, 6), (9, 8), (6, 3), (7, 7), (0, 3), (0, 2)]\n",
            "Parent2:  [(3, 4), (5, 0), (1, 7), (5, 8), (6, 9), (0, 4), (8, 2), (7, 2), (5, 1), (0, 6), (9, 8), (6, 3), (7, 7), (0, 3), (0, 2)]\n",
            "Child1 :  [(3, 4), (5, 0), (1, 7), (5, 8), (6, 9), (0, 4), (8, 2), (7, 2), (5, 1), (0, 6), (9, 8), (6, 3), (7, 7), (0, 3), (0, 2)]\n",
            "Child2 :  [(3, 4), (5, 0), (1, 7), (5, 8), (6, 9), (0, 4), (8, 2), (7, 2), (5, 1), (0, 6), (9, 8), (6, 3), (7, 7), (0, 3), (0, 2)]\n",
            "\n",
            "Making a cross\n",
            "Parent1:  [(5, 1), (0, 4), (0, 2), (8, 2), (0, 6), (3, 4), (7, 2), (1, 7), (5, 8), (5, 0), (7, 7), (9, 8), (6, 9), (0, 3), (6, 3)]\n",
            "Parent2:  [(5, 1), (0, 4), (0, 2), (8, 2), (0, 6), (3, 4), (7, 2), (1, 7), (5, 8), (5, 0), (7, 7), (9, 8), (6, 9), (0, 3), (6, 3)]\n",
            "Child1 :  [(5, 1), (0, 4), (0, 2), (8, 2), (0, 6), (3, 4), (7, 2), (1, 7), (5, 8), (5, 0), (7, 7), (9, 8), (6, 9), (0, 3), (6, 3)]\n",
            "Child2 :  [(5, 1), (0, 4), (0, 2), (8, 2), (0, 6), (3, 4), (7, 2), (1, 7), (5, 8), (5, 0), (7, 7), (9, 8), (6, 9), (0, 3), (6, 3)]\n",
            "\n",
            "-----------------------Generation Summary---------------------------\n",
            "--------------------------------------------------------------------\n",
            "Generation # 1 | Fittest chromosome fitness: 74.11\n",
            "--------------------------------------------------------------------\n",
            "Chromosome # 0  : [(3, 4), (5, 0), (1, 7), (5, 8), (6, 9), (9, 8), (7, 2), (6, 3), (7, 7), (0, 4), (0, 6), (5, 1), (0, 2), (8, 2), (0, 3)] | Fitness 74.11\n",
            "Chromosome # 1  : [(0, 2), (5, 8), (5, 1), (0, 3), (3, 4), (7, 7), (6, 3), (6, 9), (0, 4), (1, 7), (0, 6), (9, 8), (7, 2), (8, 2), (5, 0)] | Fitness 76.4\n",
            "Chromosome # 2  : [(6, 9), (1, 7), (0, 4), (0, 3), (6, 3), (5, 8), (8, 2), (9, 8), (0, 6), (7, 2), (5, 0), (3, 4), (5, 1), (0, 2), (7, 7)] | Fitness 77.56\n",
            "Chromosome # 3  : [(3, 4), (5, 0), (1, 7), (5, 8), (6, 9), (0, 4), (7, 7), (7, 2), (5, 1), (0, 6), (9, 8), (6, 3), (8, 2), (0, 3), (0, 2)] | Fitness 77.76\n",
            "Chromosome # 4  : [(5, 0), (7, 2), (0, 3), (6, 3), (7, 7), (5, 8), (3, 4), (1, 7), (6, 9), (8, 2), (5, 1), (0, 6), (9, 8), (0, 4), (0, 2)] | Fitness 79.69\n",
            "Chromosome # 5  : [(9, 8), (5, 0), (7, 7), (6, 9), (0, 2), (0, 4), (0, 3), (6, 3), (5, 8), (0, 6), (7, 2), (3, 4), (5, 1), (8, 2), (1, 7)] | Fitness 83.13\n",
            "Chromosome # 6  : [(7, 7), (0, 3), (5, 8), (6, 3), (3, 4), (1, 7), (5, 0), (6, 9), (0, 6), (0, 2), (0, 4), (5, 1), (8, 2), (9, 8), (7, 2)] | Fitness 83.23\n",
            "Chromosome # 7  : [(8, 2), (0, 2), (5, 8), (0, 3), (6, 9), (7, 2), (5, 1), (6, 3), (7, 7), (1, 7), (0, 6), (3, 4), (0, 4), (9, 8), (5, 0)] | Fitness 83.45\n",
            "Chromosome # 8  : [(8, 2), (0, 2), (5, 8), (0, 3), (6, 9), (7, 2), (5, 1), (6, 3), (7, 7), (1, 7), (0, 6), (3, 4), (0, 4), (9, 8), (5, 0)] | Fitness 83.45\n",
            "Chromosome # 9  : [(6, 9), (5, 0), (1, 7), (5, 8), (3, 4), (0, 4), (8, 2), (7, 2), (5, 1), (0, 6), (9, 8), (6, 3), (7, 7), (0, 3), (0, 2)] | Fitness 84.72\n",
            "Chromosome # 10  : [(5, 8), (0, 3), (3, 4), (0, 6), (6, 3), (5, 1), (9, 8), (0, 2), (0, 4), (6, 9), (1, 7), (7, 2), (7, 7), (8, 2), (5, 0)] | Fitness 86.37\n",
            "Chromosome # 11  : [(5, 0), (7, 2), (0, 4), (6, 3), (7, 7), (5, 8), (1, 7), (9, 8), (0, 6), (3, 4), (6, 9), (5, 1), (0, 2), (8, 2), (0, 3)] | Fitness 88.45\n",
            "Chromosome # 12  : [(7, 7), (0, 3), (5, 8), (6, 3), (3, 4), (1, 7), (5, 0), (6, 9), (0, 6), (0, 2), (7, 2), (5, 1), (8, 2), (9, 8), (0, 4)] | Fitness 90.77\n",
            "Chromosome # 13  : [(5, 1), (0, 4), (0, 2), (8, 2), (9, 8), (3, 4), (7, 2), (1, 7), (5, 8), (5, 0), (7, 7), (0, 6), (6, 9), (0, 3), (6, 3)] | Fitness 91.31\n",
            "Chromosome # 14  : [(5, 1), (1, 7), (0, 4), (9, 8), (5, 0), (7, 7), (0, 2), (8, 2), (5, 8), (3, 4), (0, 3), (6, 9), (0, 6), (7, 2), (6, 3)] | Fitness 94.3\n",
            "\n",
            "Crossover and Mutation Trace:\n",
            "\n",
            "Making a cross\n",
            "Parent1:  [(5, 0), (7, 2), (0, 3), (6, 3), (7, 7), (5, 8), (3, 4), (1, 7), (6, 9), (8, 2), (5, 1), (0, 6), (9, 8), (0, 4), (0, 2)]\n",
            "Parent2:  [(3, 4), (5, 0), (1, 7), (5, 8), (6, 9), (9, 8), (7, 2), (6, 3), (7, 7), (0, 4), (0, 6), (5, 1), (0, 2), (8, 2), (0, 3)]\n",
            "Child1 :  [(5, 0), (7, 2), (0, 3), (6, 3), (3, 4), (1, 7), (5, 8), (6, 9), (9, 8), (7, 7), (0, 4), (0, 6), (5, 1), (0, 2), (8, 2)]\n",
            "Child2 :  [(3, 4), (5, 0), (1, 7), (5, 8), (7, 2), (0, 3), (6, 3), (7, 7), (6, 9), (8, 2), (5, 1), (0, 6), (9, 8), (0, 4), (0, 2)]\n",
            "\n",
            "Making a cross\n",
            "Parent1:  [(6, 9), (1, 7), (0, 4), (0, 3), (6, 3), (5, 8), (8, 2), (9, 8), (0, 6), (7, 2), (5, 0), (3, 4), (5, 1), (0, 2), (7, 7)]\n",
            "Parent2:  [(0, 2), (5, 8), (5, 1), (0, 3), (3, 4), (7, 7), (6, 3), (6, 9), (0, 4), (1, 7), (0, 6), (9, 8), (7, 2), (8, 2), (5, 0)]\n",
            "Child1 :  [(6, 9), (1, 7), (0, 4), (0, 2), (5, 8), (5, 1), (0, 3), (3, 4), (7, 7), (6, 3), (0, 6), (9, 8), (7, 2), (8, 2), (5, 0)]\n",
            "Child2 :  [(0, 2), (5, 8), (5, 1), (6, 9), (1, 7), (0, 4), (0, 3), (6, 3), (8, 2), (9, 8), (0, 6), (7, 2), (5, 0), (3, 4), (7, 7)]\n",
            "\n",
            "Making a cross\n",
            "Parent1:  [(3, 4), (5, 0), (1, 7), (5, 8), (6, 9), (0, 4), (7, 7), (7, 2), (5, 1), (0, 6), (9, 8), (6, 3), (8, 2), (0, 3), (0, 2)]\n",
            "Parent2:  [(0, 2), (5, 8), (5, 1), (0, 3), (3, 4), (7, 7), (6, 3), (6, 9), (0, 4), (1, 7), (0, 6), (9, 8), (7, 2), (8, 2), (5, 0)]\n",
            "Child1 :  [(3, 4), (5, 0), (1, 7), (5, 8), (6, 9), (0, 2), (5, 1), (0, 3), (7, 7), (6, 3), (0, 4), (0, 6), (9, 8), (7, 2), (8, 2)]\n",
            "Child2 :  [(0, 2), (5, 8), (5, 1), (0, 3), (3, 4), (5, 0), (1, 7), (6, 9), (0, 4), (7, 7), (7, 2), (0, 6), (9, 8), (6, 3), (8, 2)]\n",
            "\n",
            "Making a cross\n",
            "Parent1:  [(8, 2), (0, 2), (5, 8), (0, 3), (6, 9), (7, 2), (9, 8), (6, 3), (7, 7), (1, 7), (0, 6), (3, 4), (0, 4), (5, 1), (5, 0)]\n",
            "Parent2:  [(3, 4), (5, 0), (1, 7), (5, 8), (6, 9), (9, 8), (7, 2), (6, 3), (7, 7), (0, 4), (0, 6), (5, 1), (0, 2), (8, 2), (0, 3)]\n",
            "Child1 :  [(8, 2), (0, 2), (5, 8), (0, 3), (6, 9), (7, 2), (9, 8), (6, 3), (7, 7), (3, 4), (5, 0), (1, 7), (0, 4), (0, 6), (5, 1)]\n",
            "Child2 :  [(3, 4), (5, 0), (1, 7), (5, 8), (6, 9), (9, 8), (7, 2), (6, 3), (7, 7), (8, 2), (0, 2), (0, 3), (0, 6), (0, 4), (5, 1)]\n",
            "\n",
            "Making a cross\n",
            "Parent1:  [(3, 4), (5, 0), (1, 7), (5, 8), (6, 9), (9, 8), (7, 2), (6, 3), (7, 7), (0, 4), (0, 6), (5, 1), (0, 2), (8, 2), (0, 3)]\n",
            "Parent2:  [(3, 4), (5, 0), (1, 7), (5, 8), (6, 9), (9, 8), (7, 2), (6, 3), (7, 7), (0, 4), (0, 6), (5, 1), (0, 2), (8, 2), (0, 3)]\n",
            "Child1 :  [(3, 4), (5, 0), (1, 7), (5, 8), (6, 9), (9, 8), (7, 2), (6, 3), (7, 7), (0, 4), (0, 6), (5, 1), (0, 2), (8, 2), (0, 3)]\n",
            "Child2 :  [(3, 4), (5, 0), (1, 7), (5, 8), (6, 9), (9, 8), (7, 2), (6, 3), (7, 7), (0, 4), (0, 6), (5, 1), (0, 2), (8, 2), (0, 3)]\n",
            "\n",
            "Making a cross\n",
            "Parent1:  [(6, 9), (1, 7), (0, 4), (0, 3), (6, 3), (5, 8), (8, 2), (9, 8), (0, 6), (7, 2), (5, 0), (3, 4), (5, 1), (0, 2), (7, 7)]\n",
            "Parent2:  [(0, 2), (5, 8), (5, 1), (0, 3), (3, 4), (7, 7), (6, 3), (6, 9), (0, 4), (1, 7), (0, 6), (9, 8), (7, 2), (8, 2), (5, 0)]\n",
            "Child1 :  [(6, 9), (1, 7), (0, 2), (5, 8), (5, 1), (0, 3), (3, 4), (7, 7), (6, 3), (0, 4), (0, 6), (9, 8), (7, 2), (8, 2), (5, 0)]\n",
            "Child2 :  [(0, 2), (5, 8), (6, 9), (1, 7), (0, 4), (0, 3), (6, 3), (8, 2), (9, 8), (0, 6), (7, 2), (5, 0), (3, 4), (5, 1), (7, 7)]\n",
            "\n",
            "-----------------------Generation Summary---------------------------\n",
            "--------------------------------------------------------------------\n",
            "Generation # 2 | Fittest chromosome fitness: 63.73\n",
            "--------------------------------------------------------------------\n",
            "Chromosome # 0  : [(3, 4), (5, 0), (1, 7), (6, 9), (5, 8), (9, 8), (7, 2), (6, 3), (7, 7), (8, 2), (0, 2), (0, 3), (0, 6), (0, 4), (5, 1)] | Fitness 63.73\n",
            "Chromosome # 1  : [(3, 4), (5, 0), (1, 7), (5, 8), (6, 9), (9, 8), (7, 2), (6, 3), (7, 7), (0, 4), (0, 6), (5, 1), (8, 2), (0, 2), (0, 3)] | Fitness 65.11\n",
            "Chromosome # 2  : [(5, 0), (7, 2), (0, 3), (6, 3), (3, 4), (1, 7), (5, 8), (6, 9), (9, 8), (7, 7), (0, 4), (0, 2), (5, 1), (0, 6), (8, 2)] | Fitness 67.94\n",
            "Chromosome # 3  : [(6, 9), (1, 7), (0, 2), (5, 8), (5, 1), (0, 3), (3, 4), (5, 0), (6, 3), (0, 4), (0, 6), (9, 8), (7, 2), (8, 2), (7, 7)] | Fitness 73.44\n",
            "Chromosome # 4  : [(0, 2), (5, 8), (5, 1), (0, 3), (3, 4), (7, 7), (6, 3), (6, 9), (0, 4), (1, 7), (0, 6), (9, 8), (7, 2), (8, 2), (5, 0)] | Fitness 76.4\n",
            "Chromosome # 5  : [(8, 2), (0, 2), (7, 2), (0, 3), (6, 9), (5, 8), (9, 8), (6, 3), (7, 7), (3, 4), (5, 0), (1, 7), (0, 4), (0, 6), (5, 1)] | Fitness 78.85\n",
            "Chromosome # 6  : [(6, 9), (6, 3), (0, 4), (0, 2), (5, 8), (5, 1), (0, 3), (3, 4), (7, 7), (1, 7), (0, 6), (9, 8), (7, 2), (8, 2), (5, 0)] | Fitness 79.06\n",
            "Chromosome # 7  : [(8, 2), (0, 2), (5, 8), (0, 3), (6, 9), (7, 2), (9, 8), (6, 3), (7, 7), (1, 7), (0, 6), (3, 4), (0, 4), (5, 1), (5, 0)] | Fitness 79.17\n",
            "Chromosome # 8  : [(3, 4), (5, 0), (1, 7), (5, 8), (6, 3), (0, 2), (5, 1), (0, 3), (7, 7), (6, 9), (0, 4), (0, 6), (9, 8), (7, 2), (8, 2)] | Fitness 80.36\n",
            "Chromosome # 9  : [(3, 4), (5, 0), (1, 7), (5, 8), (6, 9), (7, 2), (9, 8), (6, 3), (7, 7), (0, 4), (0, 6), (5, 1), (0, 2), (8, 2), (0, 3)] | Fitness 82.43\n",
            "Chromosome # 10  : [(3, 4), (5, 0), (1, 7), (5, 8), (7, 2), (0, 4), (6, 3), (7, 7), (6, 9), (8, 2), (5, 1), (0, 6), (9, 8), (0, 3), (0, 2)] | Fitness 84.34\n",
            "Chromosome # 11  : [(0, 2), (5, 8), (8, 2), (6, 9), (1, 7), (0, 4), (0, 3), (6, 3), (5, 1), (9, 8), (0, 6), (7, 2), (5, 0), (3, 4), (7, 7)] | Fitness 85.83\n",
            "Chromosome # 12  : [(8, 2), (7, 2), (0, 3), (6, 3), (7, 7), (5, 8), (5, 0), (1, 7), (6, 9), (3, 4), (5, 1), (0, 6), (9, 8), (0, 4), (0, 2)] | Fitness 87.45\n",
            "Chromosome # 13  : [(8, 2), (7, 2), (0, 3), (6, 3), (7, 7), (5, 8), (5, 0), (1, 7), (6, 9), (3, 4), (5, 1), (0, 6), (9, 8), (0, 4), (0, 2)] | Fitness 87.45\n",
            "Chromosome # 14  : [(3, 4), (5, 8), (5, 1), (0, 3), (0, 2), (5, 0), (1, 7), (6, 9), (0, 4), (7, 7), (7, 2), (0, 6), (9, 8), (6, 3), (8, 2)] | Fitness 87.85\n",
            "\n",
            "Crossover and Mutation Trace:\n",
            "\n",
            "Making a cross\n",
            "Parent1:  [(8, 2), (0, 2), (7, 2), (0, 3), (6, 9), (5, 8), (9, 8), (6, 3), (7, 7), (3, 4), (5, 0), (1, 7), (0, 4), (0, 6), (5, 1)]\n",
            "Parent2:  [(8, 2), (0, 2), (7, 2), (0, 3), (6, 9), (5, 8), (9, 8), (6, 3), (7, 7), (3, 4), (5, 0), (1, 7), (0, 4), (0, 6), (5, 1)]\n",
            "Child1 :  [(8, 2), (0, 2), (7, 2), (0, 3), (6, 9), (5, 8), (9, 8), (6, 3), (7, 7), (3, 4), (5, 0), (1, 7), (0, 4), (0, 6), (5, 1)]\n",
            "Child2 :  [(8, 2), (0, 2), (7, 2), (0, 3), (6, 9), (5, 8), (9, 8), (6, 3), (7, 7), (3, 4), (5, 0), (1, 7), (0, 4), (0, 6), (5, 1)]\n",
            "\n",
            "Making a cross\n",
            "Parent1:  [(3, 4), (5, 0), (1, 7), (5, 8), (6, 9), (9, 8), (7, 2), (6, 3), (7, 7), (0, 4), (0, 6), (5, 1), (8, 2), (0, 2), (0, 3)]\n",
            "Parent2:  [(3, 4), (5, 0), (1, 7), (5, 8), (6, 9), (9, 8), (7, 2), (6, 3), (7, 7), (0, 4), (0, 6), (5, 1), (8, 2), (0, 2), (0, 3)]\n",
            "Child1 :  [(3, 4), (5, 0), (1, 7), (5, 8), (6, 9), (9, 8), (7, 2), (6, 3), (7, 7), (0, 4), (0, 6), (5, 1), (8, 2), (0, 2), (0, 3)]\n",
            "Child2 :  [(3, 4), (5, 0), (1, 7), (5, 8), (6, 9), (9, 8), (7, 2), (6, 3), (7, 7), (0, 4), (0, 6), (5, 1), (8, 2), (0, 2), (0, 3)]\n",
            "\n",
            "Making a cross\n",
            "Parent1:  [(5, 0), (7, 2), (0, 3), (6, 3), (3, 4), (1, 7), (5, 8), (6, 9), (9, 8), (7, 7), (0, 4), (0, 2), (5, 1), (0, 6), (8, 2)]\n",
            "Parent2:  [(3, 4), (5, 0), (1, 7), (6, 9), (5, 8), (9, 8), (7, 2), (6, 3), (7, 7), (8, 2), (0, 2), (0, 3), (0, 6), (0, 4), (5, 1)]\n",
            "Child1 :  [(5, 0), (7, 2), (0, 3), (6, 3), (3, 4), (1, 7), (5, 8), (6, 9), (9, 8), (7, 7), (0, 4), (0, 2), (8, 2), (0, 6), (5, 1)]\n",
            "Child2 :  [(3, 4), (5, 0), (1, 7), (6, 9), (5, 8), (9, 8), (7, 2), (6, 3), (7, 7), (8, 2), (0, 2), (0, 3), (0, 4), (5, 1), (0, 6)]\n",
            "\n",
            "Making a cross\n",
            "Parent1:  [(5, 0), (7, 2), (0, 3), (6, 3), (3, 4), (1, 7), (5, 8), (6, 9), (9, 8), (7, 7), (0, 4), (0, 2), (5, 1), (0, 6), (8, 2)]\n",
            "Parent2:  [(3, 4), (5, 0), (1, 7), (5, 8), (6, 9), (9, 8), (7, 2), (6, 3), (7, 7), (0, 4), (0, 6), (5, 1), (8, 2), (0, 2), (0, 3)]\n",
            "Child1 :  [(5, 0), (7, 2), (0, 3), (6, 3), (3, 4), (1, 7), (5, 8), (6, 9), (9, 8), (7, 7), (0, 4), (0, 2), (5, 1), (0, 6), (8, 2)]\n",
            "Child2 :  [(3, 4), (5, 0), (1, 7), (5, 8), (6, 9), (9, 8), (7, 2), (6, 3), (7, 7), (0, 4), (0, 6), (5, 1), (8, 2), (0, 3), (0, 2)]\n",
            "\n",
            "Making a cross\n",
            "Parent1:  [(3, 4), (5, 0), (1, 7), (8, 2), (5, 8), (9, 8), (7, 2), (6, 3), (7, 7), (6, 9), (0, 2), (0, 3), (0, 6), (0, 4), (5, 1)]\n",
            "Parent2:  [(5, 0), (7, 2), (0, 3), (6, 3), (3, 4), (8, 2), (5, 8), (6, 9), (9, 8), (7, 7), (0, 4), (0, 2), (5, 1), (0, 6), (1, 7)]\n",
            "Child1 :  [(3, 4), (5, 0), (1, 7), (8, 2), (5, 8), (9, 8), (7, 2), (0, 3), (6, 3), (6, 9), (7, 7), (0, 4), (0, 2), (5, 1), (0, 6)]\n",
            "Child2 :  [(5, 0), (7, 2), (0, 3), (6, 3), (3, 4), (8, 2), (5, 8), (1, 7), (9, 8), (7, 7), (6, 9), (0, 2), (0, 6), (0, 4), (5, 1)]\n",
            "\n",
            "Making a cross\n",
            "Parent1:  [(5, 0), (7, 2), (0, 3), (6, 3), (3, 4), (8, 2), (5, 8), (6, 9), (9, 8), (7, 7), (0, 4), (0, 2), (5, 1), (0, 6), (1, 7)]\n",
            "Parent2:  [(8, 2), (0, 2), (7, 2), (0, 3), (6, 9), (5, 8), (9, 8), (6, 3), (7, 7), (3, 4), (5, 0), (1, 7), (0, 4), (0, 6), (5, 1)]\n",
            "Child1 :  [(5, 0), (7, 2), (0, 3), (6, 3), (3, 4), (8, 2), (5, 8), (6, 9), (9, 8), (7, 7), (0, 4), (0, 2), (5, 1), (0, 6), (1, 7)]\n",
            "Child2 :  [(8, 2), (0, 2), (7, 2), (0, 3), (6, 9), (5, 8), (9, 8), (6, 3), (7, 7), (3, 4), (5, 0), (1, 7), (0, 4), (0, 6), (5, 1)]\n",
            "\n",
            "-----------------------Generation Summary---------------------------\n",
            "--------------------------------------------------------------------\n",
            "Generation # 3 | Fittest chromosome fitness: 65.55\n",
            "--------------------------------------------------------------------\n",
            "Chromosome # 0  : [(3, 4), (0, 3), (1, 7), (5, 8), (6, 9), (9, 8), (7, 2), (6, 3), (7, 7), (0, 4), (0, 6), (5, 1), (8, 2), (0, 2), (5, 0)] | Fitness 65.55\n",
            "Chromosome # 1  : [(3, 4), (5, 0), (1, 7), (5, 8), (6, 9), (7, 7), (7, 2), (6, 3), (9, 8), (0, 4), (0, 6), (5, 1), (8, 2), (0, 2), (0, 3)] | Fitness 66.8\n",
            "Chromosome # 2  : [(5, 0), (3, 4), (0, 3), (6, 3), (7, 2), (1, 7), (5, 8), (6, 9), (9, 8), (7, 7), (0, 4), (0, 2), (8, 2), (0, 6), (5, 1)] | Fitness 68.43\n",
            "Chromosome # 3  : [(5, 0), (7, 2), (0, 3), (6, 3), (3, 4), (8, 2), (5, 8), (6, 9), (9, 8), (7, 7), (0, 4), (0, 2), (5, 1), (0, 6), (1, 7)] | Fitness 69.23\n",
            "Chromosome # 4  : [(3, 4), (5, 0), (6, 3), (5, 8), (6, 9), (9, 8), (7, 2), (1, 7), (0, 3), (0, 4), (0, 6), (5, 1), (8, 2), (0, 2), (7, 7)] | Fitness 70.4\n",
            "Chromosome # 5  : [(3, 4), (5, 0), (6, 3), (5, 8), (6, 9), (9, 8), (7, 2), (1, 7), (0, 3), (0, 4), (0, 6), (5, 1), (8, 2), (0, 2), (7, 7)] | Fitness 70.4\n",
            "Chromosome # 6  : [(3, 4), (5, 0), (1, 7), (8, 2), (5, 8), (9, 8), (7, 2), (6, 3), (7, 7), (6, 9), (0, 2), (0, 3), (0, 6), (0, 4), (5, 1)] | Fitness 70.6\n",
            "Chromosome # 7  : [(3, 4), (5, 0), (1, 7), (5, 8), (7, 2), (9, 8), (6, 9), (6, 3), (7, 7), (0, 4), (0, 6), (5, 1), (8, 2), (0, 3), (0, 2)] | Fitness 75.11\n",
            "Chromosome # 8  : [(3, 4), (5, 0), (1, 7), (0, 4), (5, 8), (9, 8), (7, 2), (6, 3), (7, 7), (8, 2), (0, 2), (0, 3), (6, 9), (5, 1), (0, 6)] | Fitness 79.28\n",
            "Chromosome # 9  : [(5, 0), (7, 2), (0, 3), (6, 3), (3, 4), (8, 2), (5, 8), (1, 7), (9, 8), (7, 7), (6, 9), (0, 2), (0, 6), (5, 1), (0, 4)] | Fitness 80.34\n",
            "Chromosome # 10  : [(7, 7), (0, 2), (7, 2), (0, 3), (6, 9), (5, 8), (9, 8), (6, 3), (8, 2), (3, 4), (5, 0), (1, 7), (0, 4), (0, 6), (5, 1)] | Fitness 81.12\n",
            "Chromosome # 11  : [(5, 0), (7, 2), (0, 3), (6, 3), (3, 4), (1, 7), (0, 2), (6, 9), (9, 8), (7, 7), (0, 4), (5, 8), (5, 1), (0, 6), (8, 2)] | Fitness 83.02\n",
            "Chromosome # 12  : [(8, 2), (0, 2), (7, 2), (0, 3), (6, 9), (5, 8), (9, 8), (6, 3), (1, 7), (3, 4), (5, 0), (7, 7), (0, 4), (0, 6), (5, 1)] | Fitness 83.41\n",
            "Chromosome # 13  : [(5, 0), (7, 2), (0, 3), (6, 3), (3, 4), (8, 2), (5, 8), (0, 2), (9, 8), (7, 7), (0, 4), (6, 9), (5, 1), (0, 6), (1, 7)] | Fitness 92.05\n",
            "Chromosome # 14  : [(9, 8), (5, 0), (1, 7), (8, 2), (5, 8), (3, 4), (7, 2), (0, 3), (6, 3), (6, 9), (7, 7), (0, 4), (0, 2), (5, 1), (0, 6)] | Fitness 93.57\n"
          ]
        }
      ]
    }
  ]
}